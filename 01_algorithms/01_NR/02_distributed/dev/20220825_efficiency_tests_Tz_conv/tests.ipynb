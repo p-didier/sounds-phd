{
 "cells": [
  {
   "cell_type": "code",
   "execution_count": 1,
   "metadata": {},
   "outputs": [],
   "source": [
    "# IMPORTS\n",
    "import sys\n",
    "import numpy as np\n",
    "import matplotlib.pyplot as plt\n",
    "import matplotlib\n",
    "matplotlib.style.use('default')  # <-- for Jupyter: white figures background\n",
    "from pyinstrument import Profiler\n",
    "if not any(\"_general_fcts\" in s for s in sys.path):\n",
    "    sys.path.append('C:/Users/pdidier/Dropbox/PC/Documents/sounds-phd/01_algorithms/01_NR/02_distributed')\n",
    "import danse_utilities.danse_subfcns as fcns"
   ]
  },
  {
   "cell_type": "code",
   "execution_count": 6,
   "metadata": {},
   "outputs": [
    {
     "name": "stdout",
     "output_type": "stream",
     "text": [
      "\n",
      "  _     ._   __/__   _ _  _  _ _/_   Recorded: 13:41:13  Samples:  13\n",
      " /_//_/// /_\\ / //_// / //_'/ //     Duration: 0.047     CPU time: 0.422\n",
      "/   _/                      v4.1.1\n",
      "\n",
      "Program: c:\\Users\\pdidier\\Anaconda3\\envs\\danse_env_conda\\lib\\site-packages\\ipykernel_launcher.py --ip=127.0.0.1 --stdin=9008 --control=9006 --hb=9005 --Session.signature_scheme=\"hmac-sha256\" --Session.key=b\"dad42003-4fef-4386-825d-62c19f4dfa59\" --shell=9007 --transport=\"tcp\" --iopub=9009 --f=c:\\Users\\pdidier\\AppData\\Roaming\\jupyter\\runtime\\kernel-v2-32216Ff2b8DsEFg4g.json\n",
      "\n",
      "0.046 run_code  IPython\\core\\interactiveshell.py:3416\n",
      "└─ 0.046 <module>  ..\\AppData\\Local\\Temp\\ipykernel_20428\\3375383427.py:18\n",
      "   ├─ 0.044 dist_fct_approx  danse_utilities\\danse_subfcns.py:1431\n",
      "   │  ├─ 0.002 circulant  scipy\\linalg\\special_matrices.py:202\n",
      "   │  │  └─ 0.002 ndarray.copy  <built-in>:0\n",
      "   │  ├─ 0.017 [self]  \n",
      "   │  ├─ 0.001 diag  <__array_function__ internals>:2\n",
      "   │  │  └─ 0.001 diag  numpy\\lib\\twodim_base.py:229\n",
      "   │  ├─ 0.016 [self]  \n",
      "   │  ├─ 0.004 get_trace_jitted  danse_utilities\\danse_subfcns.py:1426\n",
      "   │  ├─ 0.001 [self]  \n",
      "   │  ├─ 0.001 get_trace_jitted  danse_utilities\\danse_subfcns.py:1426\n",
      "   │  └─ 0.002 [self]  \n",
      "   └─ 0.002 [self]  \n",
      "\n",
      "\n"
     ]
    }
   ],
   "source": [
    "N = 1024\n",
    "R = N // 2\n",
    "seed = 12345\n",
    "rng = np.random.default_rng(seed)\n",
    "wTD = 2 * rng.random(N) - 1\n",
    "wTD = wTD[:, np.newaxis]\n",
    "wHat = np.fft.fft(wTD, N, axis=0)\n",
    "wHat = wHat[:int(len(wHat) // 2 + 1)]\n",
    "win = np.sqrt(np.hanning(N))\n",
    "\n",
    "y = rng.random((N, 1))\n",
    "\n",
    "test = fcns.dist_fct_approx(wHat, win, win, R)\n",
    "\n",
    "profiler = Profiler()\n",
    "profiler.start()\n",
    "# a = fcns.get_desired_signal(wHat, 0, win, 0, 0, R, R, processingType='conv', yTD=y)\n",
    "a = fcns.dist_fct_approx(wHat, win, win, R, jitted=True)\n",
    "profiler.stop()\n",
    "profiler.print(show_all=True, timeline=True)"
   ]
  },
  {
   "cell_type": "code",
   "execution_count": 3,
   "metadata": {},
   "outputs": [
    {
     "data": {
      "text/plain": [
       "[<matplotlib.lines.Line2D at 0x2ca396cf2b0>]"
      ]
     },
     "execution_count": 3,
     "metadata": {},
     "output_type": "execute_result"
    },
    {
     "data": {
      "image/png": "[encoded data removed]",
      "text/plain": [
       "<Figure size 640x480 with 1 Axes>"
      ]
     },
     "metadata": {},
     "output_type": "display_data"
    }
   ],
   "source": [
    "n = N\n",
    "Amat = rng.random((N, N))\n",
    "wIR_out = np.zeros(2 * n - 1)\n",
    "wIR_out2 = np.zeros(2 * n - 1)\n",
    "for ii in np.arange(start=-n+1, stop=n):\n",
    "    wIR_out[ii + n - 1] = np.sum(np.diagonal(Amat, ii))\n",
    "    wIR_out2[ii + n - 1] = np.trace(Amat, ii)\n",
    "\n",
    "\n",
    "plt.plot(wIR_out)\n",
    "# plt.plot(wIR_out2)"
   ]
  },
  {
   "cell_type": "code",
   "execution_count": 4,
   "metadata": {},
   "outputs": [
    {
     "data": {
      "text/plain": [
       "253.1609983109821"
      ]
     },
     "execution_count": 4,
     "metadata": {},
     "output_type": "execute_result"
    }
   ],
   "source": [
    "\n",
    "from numba import njit\n",
    "\n",
    "@njit\n",
    "def testfunc(A):\n",
    "    B = np.trace(A)\n",
    "    return B\n",
    "\n",
    "testfunc(rng.random((R, R)))"
   ]
  }
 ],
 "metadata": {
  "kernelspec": {
   "display_name": "Python 3.9.7 ('danse_env_conda')",
   "language": "python",
   "name": "python3"
  },
  "language_info": {
   "codemirror_mode": {
    "name": "ipython",
    "version": 3
   },
   "file_extension": ".py",
   "mimetype": "text/x-python",
   "name": "python",
   "nbconvert_exporter": "python",
   "pygments_lexer": "ipython3",
   "version": "3.9.7"
  },
  "orig_nbformat": 4,
  "vscode": {
   "interpreter": {
    "hash": "027b591de48709aada8c52c9a2b70de09d4abb884b7b95c0181e2f123fd0457d"
   }
  }
 },
 "nbformat": 4,
 "nbformat_minor": 2
}
