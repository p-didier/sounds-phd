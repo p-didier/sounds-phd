{
 "cells": [
  {
   "cell_type": "code",
   "execution_count": 6,
   "metadata": {},
   "outputs": [],
   "source": [
    "import numpy as np\n",
    "import scipy.signal as sig"
   ]
  },
  {
   "cell_type": "code",
   "execution_count": 17,
   "metadata": {},
   "outputs": [
    {
     "name": "stdout",
     "output_type": "stream",
     "text": [
      "1.4332791299406153\n",
      "1.4332791299406153\n"
     ]
    }
   ],
   "source": [
    "rng = np.random.default_rng(12345)\n",
    "\n",
    "N = 6\n",
    "w = rng.random(2*N-1)\n",
    "x = rng.random(N)\n",
    "\n",
    "y = sig.convolve(x, w, mode='full')\n",
    "\n",
    "n = 5  # index desired\n",
    "# Zeropad\n",
    "xzp = np.concatenate((np.zeros(len(w)), x))\n",
    "out = np.dot(xzp[n + 1:n + 1 + len(w)], np.flip(w))\n",
    "\n",
    "print(out)\n",
    "print(y[n])"
   ]
  },
  {
   "cell_type": "code",
   "execution_count": 11,
   "metadata": {},
   "outputs": [
    {
     "data": {
      "text/plain": [
       "array([], dtype=float64)"
      ]
     },
     "execution_count": 11,
     "metadata": {},
     "output_type": "execute_result"
    }
   ],
   "source": [
    "xzp[n - N:n]"
   ]
  }
 ],
 "metadata": {
  "kernelspec": {
   "display_name": "Python 3.9.7 ('danse_env_conda')",
   "language": "python",
   "name": "python3"
  },
  "language_info": {
   "codemirror_mode": {
    "name": "ipython",
    "version": 3
   },
   "file_extension": ".py",
   "mimetype": "text/x-python",
   "name": "python",
   "nbconvert_exporter": "python",
   "pygments_lexer": "ipython3",
   "version": "3.9.7"
  },
  "orig_nbformat": 4,
  "vscode": {
   "interpreter": {
    "hash": "027b591de48709aada8c52c9a2b70de09d4abb884b7b95c0181e2f123fd0457d"
   }
  }
 },
 "nbformat": 4,
 "nbformat_minor": 2
}
