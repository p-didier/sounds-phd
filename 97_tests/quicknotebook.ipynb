{
 "cells": [
  {
   "cell_type": "code",
   "execution_count": 42,
   "id": "97d4b41b",
   "metadata": {},
   "outputs": [
    {
     "data": {
      "text/plain": [
       "array([[False,  True, False, False, False],\n",
       "       [False,  True,  True,  True,  True],\n",
       "       [False,  True,  True, False, False],\n",
       "       [ True, False,  True,  True, False],\n",
       "       [ True, False, False, False,  True]])"
      ]
     },
     "execution_count": 42,
     "metadata": {},
     "output_type": "execute_result"
    }
   ],
   "source": [
    "import numpy as np\n",
    "\n",
    "np.eye(3, dtype=bool)\n",
    "\n",
    "n = 5\n",
    "seed = np.random.randint(9999)\n",
    "rng = np.random.default_rng(seed)\n",
    "\n",
    "a = rng.integers(low=0, high=1, size=(n,n), dtype=bool, endpoint=True)\n",
    "np.maximum(a, a.transpose())\n",
    "\n",
    "np.random.randint(2, size=(n,n), dtype=bool)"
   ]
  }
 ],
 "metadata": {
  "kernelspec": {
   "display_name": "Python 3 (ipykernel)",
   "language": "python",
   "name": "python3"
  },
  "language_info": {
   "codemirror_mode": {
    "name": "ipython",
    "version": 3
   },
   "file_extension": ".py",
   "mimetype": "text/x-python",
   "name": "python",
   "nbconvert_exporter": "python",
   "pygments_lexer": "ipython3",
   "version": "3.9.7"
  }
 },
 "nbformat": 4,
 "nbformat_minor": 5
}
